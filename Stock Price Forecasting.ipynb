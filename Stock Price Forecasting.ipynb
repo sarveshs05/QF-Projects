{
  "cells": [
    {
      "cell_type": "code",
      "execution_count": null,
      "metadata": {
        "colab": {
          "base_uri": "https://localhost:8080/"
        },
        "id": "TF55p7z9TZXN",
        "outputId": "85dd2fb6-81b3-488a-b030-fa1603728767"
      },
      "outputs": [
        {
          "name": "stdout",
          "output_type": "stream",
          "text": [
            "Downloading trexquant-2025-summer-intern-challenge-iitm, 68151584 bytes compressed\n",
            "[==================================================] 68151584 bytes downloaded\n",
            "Downloaded and uncompressed: trexquant-2025-summer-intern-challenge-iitm\n",
            "Data source import complete.\n"
          ]
        }
      ],
      "source": [
        "import os\n",
        "import sys\n",
        "from tempfile import NamedTemporaryFile\n",
        "from urllib.request import urlopen\n",
        "from urllib.parse import unquote, urlparse\n",
        "from urllib.error import HTTPError\n",
        "from zipfile import ZipFile\n",
        "import tarfile\n",
        "import shutil\n",
        "\n",
        "CHUNK_SIZE = 40960\n",
        "DATA_SOURCE_MAPPING = 'trexquant-2025-summer-intern-challenge-iitm:https%3A%2F%2Fstorage.googleapis.com%2Fkaggle-competitions-data%2Fkaggle-v2%2F82591%2F9060719%2Fbundle%2Farchive.zip%3FX-Goog-Algorithm%3DGOOG4-RSA-SHA256%26X-Goog-Credential%3Dgcp-kaggle-com%2540kaggle-161607.iam.gserviceaccount.com%252F20240716%252Fauto%252Fstorage%252Fgoog4_request%26X-Goog-Date%3D20240716T202918Z%26X-Goog-Expires%3D259200%26X-Goog-SignedHeaders%3Dhost%26X-Goog-Signature%3Db3c1b7a09d441fa3b039e41352e7723e5dd402b0b62a6dccddc7bc3c22a98c221cfe8d5ad6a6d5d823534a99e3c26cd0eb6d50a6431ecc11a87ed0a42c98306554cdc0923fde407992d36289e6469700440fb0bc15680ddb6f4b211843acf06c32f21865f274b090d68fa150a2a40c4032fc92b2583dae5ce411d66b8be3cffa243b3625ce394d8d2af49fc4bdf48e7b1098990d2349661b0d78cb2fcbb2c1cf05d70cdafc18169e53495ad33d635ddea709044a5f46af068da94551bc4e8d263cdf591ea2eedd1ff61e2a3abdf2f0b0c83256f1e180f2e423d54bf68d2f1645bced0d3078db8f2f0212dc8c9444f86335877febff6265f4882629a6595e513c'\n",
        "\n",
        "KAGGLE_INPUT_PATH='/kaggle/input'\n",
        "KAGGLE_WORKING_PATH='/kaggle/working'\n",
        "KAGGLE_SYMLINK='kaggle'\n",
        "\n",
        "!umount /kaggle/input/ 2> /dev/null\n",
        "shutil.rmtree('/kaggle/input', ignore_errors=True)\n",
        "os.makedirs(KAGGLE_INPUT_PATH, 0o777, exist_ok=True)\n",
        "os.makedirs(KAGGLE_WORKING_PATH, 0o777, exist_ok=True)\n",
        "\n",
        "try:\n",
        "  os.symlink(KAGGLE_INPUT_PATH, os.path.join(\"..\", 'input'), target_is_directory=True)\n",
        "except FileExistsError:\n",
        "  pass\n",
        "try:\n",
        "  os.symlink(KAGGLE_WORKING_PATH, os.path.join(\"..\", 'working'), target_is_directory=True)\n",
        "except FileExistsError:\n",
        "  pass\n",
        "\n",
        "for data_source_mapping in DATA_SOURCE_MAPPING.split(','):\n",
        "    directory, download_url_encoded = data_source_mapping.split(':')\n",
        "    download_url = unquote(download_url_encoded)\n",
        "    filename = urlparse(download_url).path\n",
        "    destination_path = os.path.join(KAGGLE_INPUT_PATH, directory)\n",
        "    try:\n",
        "        with urlopen(download_url) as fileres, NamedTemporaryFile() as tfile:\n",
        "            total_length = fileres.headers['content-length']\n",
        "            print(f'Downloading {directory}, {total_length} bytes compressed')\n",
        "            dl = 0\n",
        "            data = fileres.read(CHUNK_SIZE)\n",
        "            while len(data) > 0:\n",
        "                dl += len(data)\n",
        "                tfile.write(data)\n",
        "                done = int(50 * dl / int(total_length))\n",
        "                sys.stdout.write(f\"\\r[{'=' * done}{' ' * (50-done)}] {dl} bytes downloaded\")\n",
        "                sys.stdout.flush()\n",
        "                data = fileres.read(CHUNK_SIZE)\n",
        "            if filename.endswith('.zip'):\n",
        "              with ZipFile(tfile) as zfile:\n",
        "                zfile.extractall(destination_path)\n",
        "            else:\n",
        "              with tarfile.open(tfile.name) as tarfile:\n",
        "                tarfile.extractall(destination_path)\n",
        "            print(f'\\nDownloaded and uncompressed: {directory}')\n",
        "    except HTTPError as e:\n",
        "        print(f'Failed to load (likely expired) {download_url} to path {destination_path}')\n",
        "        continue\n",
        "    except OSError as e:\n",
        "        print(f'Failed to load {download_url} to path {destination_path}')\n",
        "        continue\n",
        "\n",
        "print('Data source import complete.')\n"
      ]
    },
    {
      "cell_type": "code",
      "execution_count": null,
      "metadata": {
        "_cell_guid": "b1076dfc-b9ad-4769-8c92-a6c4dae69d19",
        "_uuid": "8f2839f25d086af736a60e9eeb907d3b93b6e0e5",
        "colab": {
          "base_uri": "https://localhost:8080/"
        },
        "id": "biASXMwzTZXR",
        "outputId": "2780f976-4f6d-4dad-aaf7-d590f5737664",
        "trusted": true
      },
      "outputs": [
        {
          "name": "stdout",
          "output_type": "stream",
          "text": [
            "/kaggle/input/trexquant-2025-summer-intern-challenge-iitm/TQ_Train_Kaggle.csv\n",
            "/kaggle/input/trexquant-2025-summer-intern-challenge-iitm/predictions_sandbox.csv\n",
            "/kaggle/input/trexquant-2025-summer-intern-challenge-iitm/TQ_Test_Kaggle.csv\n"
          ]
        }
      ],
      "source": [
        "# This Python 3 environment comes with many helpful analytics libraries installed\n",
        "# It is defined by the kaggle/python Docker image: https://github.com/kaggle/docker-python\n",
        "# For example, here's several helpful packages to load\n",
        "\n",
        "import numpy as np # linear algebra\n",
        "import pandas as pd # data processing, CSV file I/O (e.g. pd.read_csv)\n",
        "\n",
        "# Input data files are available in the read-only \"../input/\" directory\n",
        "# For example, running this (by clicking run or pressing Shift+Enter) will list all files under the input directory\n",
        "\n",
        "import os\n",
        "for dirname, _, filenames in os.walk('/kaggle/input'):\n",
        "    for filename in filenames:\n",
        "        print(os.path.join(dirname, filename))\n",
        "\n",
        "# You can write up to 20GB to the current directory (/kaggle/working/) that gets preserved as output when you create a version using \"Save & Run All\"\n",
        "# You can also write temporary files to /kaggle/temp/, but they won't be saved outside of the current session"
      ]
    },
    {
      "cell_type": "code",
      "execution_count": null,
      "metadata": {
        "id": "sWixce6DTbGa"
      },
      "outputs": [],
      "source": [
        "import numpy as np\n",
        "import pandas as pd\n",
        "import matplotlib.pyplot as plt"
      ]
    },
    {
      "cell_type": "code",
      "execution_count": null,
      "metadata": {
        "id": "xaj3Nb43TehH"
      },
      "outputs": [],
      "source": [
        "df_train = pd.read_csv('/kaggle/input/trexquant-2025-summer-intern-challenge-iitm/TQ_Train_Kaggle.csv')\n",
        "df_train.head()"
      ]
    },
    {
      "cell_type": "code",
      "execution_count": null,
      "metadata": {
        "id": "qu49XRN4Tk3M"
      },
      "outputs": [],
      "source": [
        "df_train.shape"
      ]
    },
    {
      "cell_type": "code",
      "execution_count": null,
      "metadata": {
        "id": "cusGaDyUTrcj"
      },
      "outputs": [],
      "source": [
        "df_train.info()"
      ]
    },
    {
      "cell_type": "code",
      "execution_count": null,
      "metadata": {
        "id": "lmyjZYvWTtJo"
      },
      "outputs": [],
      "source": [
        "pd.set_option('display.max_rows', None)\n",
        "df_train.isna().sum().sort_values(ascending=False)"
      ]
    },
    {
      "cell_type": "code",
      "execution_count": null,
      "metadata": {
        "id": "0e_NR0VAT3G9"
      },
      "outputs": [],
      "source": [
        "df_train.describe()"
      ]
    },
    {
      "cell_type": "code",
      "execution_count": null,
      "metadata": {
        "id": "lveZSnIxT8Qb"
      },
      "outputs": [],
      "source": [
        "df_train = df_train.apply(lambda x: x.fillna(0))\n",
        "# df_train = df_train.apply(lambda x: x.fillna(x.mean()), axis=0)\n",
        "# df_train = df_train.apply(lambda x: x.fillna(x.median()), axis=0)"
      ]
    },
    {
      "cell_type": "code",
      "execution_count": null,
      "metadata": {
        "id": "YO3sEHUWUc2I"
      },
      "outputs": [],
      "source": [
        "from sklearn.model_selection import train_test_split\n",
        "from sklearn.linear_model import LinearRegression,Lasso,Ridge\n",
        "from sklearn import svm\n",
        "from sklearn.svm import SVR\n",
        "from sklearn.ensemble import RandomForestRegressor\n",
        "!pip install catboost\n",
        "from catboost import CatBoostRegressor\n",
        "from xgboost import XGBRegressor\n",
        "from sklearn.linear_model import BayesianRidge\n",
        "from sklearn.neighbors import KNeighborsRegressor\n",
        "from sklearn.ensemble import ExtraTreesRegressor\n",
        "from sklearn.ensemble import GradientBoostingRegressor\n",
        "from lightgbm import LGBMRegressor\n",
        "from sklearn.ensemble import VotingRegressor\n",
        "from sklearn.ensemble import StackingRegressor\n",
        "from sklearn.metrics import mean_squared_error"
      ]
    },
    {
      "cell_type": "code",
      "execution_count": null,
      "metadata": {
        "id": "CN9KBUNKUjGo"
      },
      "outputs": [],
      "source": [
        "from sklearn.ensemble import RandomForestRegressor\n",
        "rfrm = RandomForestRegressor(n_estimators=300, min_samples_split=5500, random_state=1)\n",
        "\n",
        "train = df_train\n",
        "\n",
        "predictors=['f1', 'f2', 'f3', 'f4', 'f5', 'f6', 'f7', 'f8', 'f9', 'f10', 'f11','f12', 'f13', 'f14', 'f15', 'f16', 'f17', 'f18','f19', 'f21', 'f22',\n",
        "       'f23', 'f24', 'f25', 'f26', 'f27', 'f28', 'f29', 'f30', 'f31', 'f32',\n",
        "       'f33', 'f34', 'f35', 'f36', 'f37', 'f39', 'f40', 'f42', 'f43', 'f44',\n",
        "       'f45', 'f48', 'f49', 'f50', 'f51', 'f52', 'f53', 'f54', 'f55', 'f57',\n",
        "       'f58', 'f59', 'f60', 'f61', 'f63', 'f64', 'f65', 'f66', 'f67', 'f68',\n",
        "       'f69', 'f70', 'f71', 'f72', 'f74', 'f75', 'f76', 'f77', 'f78', 'f79',\n",
        "       'f81', 'f82', 'f83', 'f84', 'f85', 'f86', 'f87']\n",
        "\n",
        "rfrm.fit(train[predictors], train['target'])"
      ]
    },
    {
      "cell_type": "code",
      "execution_count": null,
      "metadata": {
        "id": "eAHoHkv3UwjR"
      },
      "outputs": [],
      "source": [
        "import xgboost as xgb\n",
        "from sklearn.model_selection import GridSearchCV\n",
        "xgbm = xgb.XGBRegressor(n_estimators=800,\n",
        "                         learning_rate=0.001,\n",
        "                         max_depth=6,\n",
        "                         min_child_weight=2,\n",
        "                         subsample=0.7,\n",
        "                         colsample_bytree=0.9,\n",
        "                         reg_alpha=0.001,\n",
        "                         reg_lambda=1,\n",
        "                         random_state=1  )\n",
        "\n",
        "\n",
        "\n",
        "train = df_train\n",
        "predictors=['f1', 'f2', 'f3', 'f4', 'f5', 'f6', 'f7', 'f8', 'f9', 'f10', 'f11','f12', 'f13', 'f14', 'f15', 'f16', 'f17', 'f18','f19', 'f21', 'f22',\n",
        "       'f23', 'f24', 'f25', 'f26', 'f27', 'f28', 'f29', 'f30', 'f31', 'f32',\n",
        "       'f33', 'f34', 'f35', 'f36', 'f37', 'f39', 'f40', 'f42', 'f43', 'f44',\n",
        "       'f45', 'f48', 'f49', 'f50', 'f51', 'f52', 'f53', 'f54', 'f55', 'f57',\n",
        "       'f58', 'f59', 'f60', 'f61', 'f63', 'f64', 'f65', 'f66', 'f67', 'f68',\n",
        "       'f69', 'f70', 'f71', 'f72', 'f74', 'f75', 'f76', 'f77', 'f78', 'f79',\n",
        "       'f81', 'f82', 'f83', 'f84', 'f85', 'f86', 'f87']\n",
        "# param_grid = {\n",
        "#     'n_estimators': [100, 200, 300],\n",
        "#     'learning_rate': [0.01, 0.05, 0.1],\n",
        "#     'max_depth': [3, 5, 7],\n",
        "#     'min_child_weight': [1, 3, 5],\n",
        "#     'subsample': [0.6, 0.8, 1.0],\n",
        "#     'colsample_bytree': [0.6, 0.8, 1.0]\n",
        "# }\n",
        "\n",
        "# grid_search = GridSearchCV(\n",
        "#     estimator=initial_model,\n",
        "#     param_grid=param_grid,\n",
        "#     scoring='neg_mean_squared_error',\n",
        "#     cv=5,\n",
        "#     verbose=1,\n",
        "#     n_jobs=-1\n",
        "# )\n",
        "\n",
        "# grid_search.fit(df_train[predictors], df_train['target'])\n",
        "\n",
        "# best_model = grid_search.best_estimator_\n",
        "xgbm.fit(train[predictors], train['target'])\n"
      ]
    },
    {
      "cell_type": "code",
      "execution_count": null,
      "metadata": {
        "id": "R4_Lj4NlU0en"
      },
      "outputs": [],
      "source": [
        "import lightgbm as lgb\n",
        "\n",
        "lgbm = lgb.LGBMRegressor(\n",
        "    n_estimators=800,\n",
        "    learning_rate=0.005,\n",
        "    max_depth=4,\n",
        "    num_leaves=33,\n",
        "    min_child_weight=2,\n",
        "    subsample=0.7,\n",
        "    colsample_bytree=0.9,\n",
        "    reg_alpha=0.001,\n",
        "    reg_lambda=1,\n",
        "    random_state=1\n",
        ")\n",
        "\n",
        "train = df_train\n",
        "predictors=['f1', 'f2', 'f3', 'f4', 'f5', 'f6', 'f7', 'f8', 'f9', 'f10', 'f11','f12', 'f13', 'f14', 'f15', 'f16', 'f17', 'f18','f19', 'f21', 'f22',\n",
        "       'f23', 'f24', 'f25', 'f26', 'f27', 'f28', 'f29', 'f30', 'f31', 'f32',\n",
        "       'f33', 'f34', 'f35', 'f36', 'f37', 'f39', 'f40', 'f42', 'f43', 'f44',\n",
        "       'f45', 'f48', 'f49', 'f50', 'f51', 'f52', 'f53', 'f54', 'f55', 'f57',\n",
        "       'f58', 'f59', 'f60', 'f61', 'f63', 'f64', 'f65', 'f66', 'f67', 'f68',\n",
        "       'f69', 'f70', 'f71', 'f72', 'f74', 'f75', 'f76', 'f77', 'f78', 'f79',\n",
        "       'f81', 'f82', 'f83', 'f84', 'f85', 'f86', 'f87']\n",
        "lgbm.fit(train[predictors], train['target'])"
      ]
    },
    {
      "cell_type": "code",
      "execution_count": null,
      "metadata": {
        "id": "bCslR76dU3yz"
      },
      "outputs": [],
      "source": [
        "from sklearn.neighbors import KNeighborsRegressor\n",
        "from sklearn.model_selection import RandomizedSearchCV\n",
        "knnm = KNeighborsRegressor(n_neighbors=10,\n",
        "    weights='distance',\n",
        "    algorithm='auto',\n",
        "    leaf_size=30,\n",
        "    metric='minkowski',\n",
        "    p=2  )\n",
        "# param_grid = {\n",
        "#     'n_neighbors': [5, 10, 15, 20, 25],  # Try different k values\n",
        "#     'weights': ['uniform', 'distance'],  # Different weighting strategies\n",
        "#     'algorithm': ['auto', 'ball_tree', 'kd_tree', 'brute'],  # Different algorithms\n",
        "#     'leaf_size': [10, 20, 30, 40, 50],  # Different leaf sizes\n",
        "#     'metric': ['euclidean', 'manhattan', 'minkowski']  # Different distance metrics\n",
        "# }\n",
        "\n",
        "# random_search = RandomizedSearchCV(knn, param_distributions=param_grid, n_iter=50, cv=5, scoring='neg_mean_squared_error', random_state=1, n_jobs=-1)\n",
        "train = df_train\n",
        "predictors=['f1', 'f2', 'f3', 'f4', 'f5', 'f6', 'f7', 'f8', 'f9', 'f10', 'f11','f12', 'f13', 'f14', 'f15', 'f16', 'f17', 'f18','f19', 'f21', 'f22',\n",
        "       'f23', 'f24', 'f25', 'f26', 'f27', 'f28', 'f29', 'f30', 'f31', 'f32',\n",
        "       'f33', 'f34', 'f35', 'f36', 'f37', 'f39', 'f40', 'f42', 'f43', 'f44',\n",
        "       'f45', 'f48', 'f49', 'f50', 'f51', 'f52', 'f53', 'f54', 'f55', 'f57',\n",
        "       'f58', 'f59', 'f60', 'f61', 'f63', 'f64', 'f65', 'f66', 'f67', 'f68',\n",
        "       'f69', 'f70', 'f71', 'f72', 'f74', 'f75', 'f76', 'f77', 'f78', 'f79',\n",
        "       'f81', 'f82', 'f83', 'f84', 'f85', 'f86', 'f87']\n",
        "knnm.fit(train[predictors], train['target'])"
      ]
    },
    {
      "cell_type": "code",
      "execution_count": null,
      "metadata": {
        "id": "NKCJEXZiU8fS"
      },
      "outputs": [],
      "source": [
        "from sklearn.model_selection import cross_val_score\n",
        "\n",
        "cv_scores = cross_val_score(model, train[predictors], train['target'])\n",
        "\n",
        "rmse_scores = (abs(cv_scores))**0.5\n",
        "\n",
        "#replace {model} with the actual model"
      ]
    },
    {
      "cell_type": "code",
      "execution_count": null,
      "metadata": {
        "id": "RFDmpLw8U-m4"
      },
      "outputs": [],
      "source": [
        "df_test=pd.read_csv('TQ_Test_Kaggle.csv')\n",
        "df_test.drop(columns=['f41','f38','f20','f73','f62','f80','f47','f46','f56'], inplace=True)\n",
        "df_test =  df_test.apply(lambda x: x.fillna(0))\n",
        "preds = model.predict(df_test[predictors])"
      ]
    },
    {
      "cell_type": "code",
      "execution_count": null,
      "metadata": {
        "id": "DhtEttHMVAmY"
      },
      "outputs": [],
      "source": [
        "id=df_test['row_id']\n",
        "submission_df = pd.DataFrame({\n",
        "    'row_id': id,\n",
        "    'Prediction': preds\n",
        "})\n",
        "submission_df.to_csv('submission.csv', index=False)"
      ]
    }
  ],
  "metadata": {
    "colab": {
      "provenance": []
    },
    "kernelspec": {
      "display_name": "Python 3",
      "language": "python",
      "name": "python3"
    },
    "language_info": {
      "codemirror_mode": {
        "name": "ipython",
        "version": 3
      },
      "file_extension": ".py",
      "mimetype": "text/x-python",
      "name": "python",
      "nbconvert_exporter": "python",
      "pygments_lexer": "ipython3",
      "version": "3.6.4"
    }
  },
  "nbformat": 4,
  "nbformat_minor": 0
}
